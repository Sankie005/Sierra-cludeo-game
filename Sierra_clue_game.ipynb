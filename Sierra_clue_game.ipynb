{
  "nbformat": 4,
  "nbformat_minor": 0,
  "metadata": {
    "colab": {
      "provenance": [],
      "authorship_tag": "ABX9TyMXyD8MOI5nMNZ4c4WQ0q7v",
      "include_colab_link": true
    },
    "kernelspec": {
      "name": "python3",
      "display_name": "Python 3"
    },
    "language_info": {
      "name": "python"
    }
  },
  "cells": [
    {
      "cell_type": "markdown",
      "metadata": {
        "id": "view-in-github",
        "colab_type": "text"
      },
      "source": [
        "<a href=\"https://colab.research.google.com/github/Sankie005/Sierra-cludeo-game/blob/main/Sierra_clue_game.ipynb\" target=\"_parent\"><img src=\"https://colab.research.google.com/assets/colab-badge.svg\" alt=\"Open In Colab\"/></a>"
      ]
    },
    {
      "cell_type": "markdown",
      "source": [
        "# A game of Clue/Cludeo for Sierra 💖"
      ],
      "metadata": {
        "id": "BoKDFGDGGx09"
      }
    },
    {
      "cell_type": "code",
      "execution_count": null,
      "metadata": {
        "id": "JkEkidesGvRI"
      },
      "outputs": [],
      "source": [
        "import random\n",
        "#Sierra's <3 game of cludeo\n",
        "# 21 5 22 15 12 9\n",
        "# Define the characters, rooms, and weapons in the game\n",
        "characters = [\"Miss Scarlet\", \"Colonel Mustard\", \"Mrs. White\", \"Mr. Green\", \"Mrs. Peacock\", \"Professor Plum\"]\n",
        "rooms = [\"Kitchen\", \"Ballroom\", \"Conservatory\", \"Dining Room\", \"Cellar\", \"Billiard Room\", \"Library\", \"Lounge\", \"Hall\", \"Study\"]\n",
        "weapons = [\"Candlestick\", \"Knife\", \"Lead Pipe\", \"Revolver\", \"Rope\", \"Wrench\"]\n",
        "\n",
        "\n",
        "\n",
        "\n",
        "# Create the confidential case file with a random solution\n",
        "confidential_file = {\n",
        "    \"character\": random.choice(characters),\n",
        "    \"room\": random.choice(rooms),\n",
        "    \"weapon\": random.choice(weapons)\n",
        "}\n",
        "# Removing the selected characters from possible playing cards\n",
        "for i in confidential_file.values():\n",
        "    if i in characters:\n",
        "        characters.remove(i)\n",
        "    if i in rooms:\n",
        "        rooms.remove(i)\n",
        "    if i in weapons:\n",
        "        weapons.remove(i)\n",
        "players = []\n",
        "num_players = int(input(\"Enter the number of players (2 to 6): \"))\n",
        "if num_players < 2 or num_players > 6:\n",
        "    print(\"Invalid number of players. You can only play with 2 to 6 players.\")\n",
        "    exit()\n",
        "for i in range(1, num_players + 1):\n",
        "    player_name = input(f\"Enter the name of Player {i}: \")\n",
        "    players.append({\"name\": player_name, \"cards\": []})\n",
        "\n",
        "all_cards = characters + rooms + weapons\n",
        "random.shuffle(all_cards)\n",
        "\n",
        "for i, card in enumerate(all_cards):\n",
        "    player_index = i % num_players\n",
        "    players[player_index][\"cards\"].append(card)\n",
        "    file_name=str(players[player_index][\"name\"])+\".txt\"\n",
        "    f=open(file_name,'w+')\n",
        "    for k in players[player_index][\"cards\"]:\n",
        "        adjusted=f\"\\n {k}\"\n",
        "        f.write(adjusted)\n",
        "    f.close()\n",
        "\n",
        "def make_suggestion(player, room):\n",
        "    print(f\"{player['name']}, you are in the {room}. Make a suggestion.\")\n",
        "    character = input(\"Suggest a character: \")\n",
        "    weapon = input(\"Suggest a weapon: \")\n",
        "\n",
        "    return {\"character\": character, \"room\": room, \"weapon\": weapon}\n",
        "# Main game loop\n",
        "text_draw=r\"\"\"___       __    ______                                 _____            ______________\n",
        "__ |     / /_______  /__________________ ________      __  /______      __  ____/__  /___  ______\n",
        "__ | /| / /_  _ \\_  /_  ___/  __ \\_  __ `__ \\  _ \\     _  __/  __ \\     _  /    __  /_  / / /  _ \\\n",
        "__ |/ |/ / /  __/  / / /__ / /_/ /  / / / / /  __/     / /_ / /_/ /     / /___  _  / / /_/ //  __/\n",
        "____/|__/  \\___//_/  \\___/ \\____//_/ /_/ /_/\\___/      \\__/ \\____/      \\____/  /_/  \\__,_/ \\___/\n",
        "                                                                                                       \"\"\"\n",
        "print(text_draw)\n",
        "import time\n",
        "time.sleep(10)\n",
        "running=True\n",
        "while running:\n",
        "    for player in players:\n",
        "        print(f\"\\n{player['name']}'s turn:\")\n",
        "        current_room = random.choice(rooms)\n",
        "        suggestion = make_suggestion(player, current_room)\n",
        "        print(f\"{player['name']} suggests that the murder was committed by {suggestion['character']} in the {suggestion['room']} with the {suggestion['weapon']}.\")\n",
        "\n",
        "        for other_player in players:\n",
        "            if other_player != player:\n",
        "                response = input(f\"{other_player['name']}, do you have a card to disprove this suggestion? (Enter the card's name or 'no'): \")\n",
        "                if response != 'no' and response in other_player['cards']:\n",
        "                    print(f\"{other_player['name']} shows a card to {player['name']}.\")\n",
        "        accusation_check=str(input(f\"Do you {player['name']} want to make an accusation? y/n\"))\n",
        "        if accusation_check=='y' or accusation_check==\"Y\":\n",
        "             accusation = {\n",
        "             \"character\": input(\"Make an accusation. Who do you accuse? \"),\n",
        "             \"room\": input(\"Where do you accuse the murder took place? \"),\n",
        "             \"weapon\": input(\"Which weapon do you think was used? \")}\n",
        "             if accusation == confidential_file:\n",
        "                 print(f\"Congratulations, {player['name']}! You've solved the case and won the game!\")\n",
        "                 break\n",
        "             else:\n",
        "                 print(f\"Sorry, {player['name']}. Your accusation is incorrect. You are out of the game.\")\n",
        "                 num_players-1\n",
        "                 response = input(f\"Press Enter to end {player['name']}'s turn...\")\n",
        "                 if num_players==0:\n",
        "                     running=False\n",
        "\n",
        "\n",
        "print(\"Game over!\")\n",
        "\n"
      ]
    }
  ]
}